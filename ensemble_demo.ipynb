{
 "cells": [
  {
   "cell_type": "markdown",
   "metadata": {},
   "source": [
    "# Imports"
   ]
  },
  {
   "cell_type": "code",
   "execution_count": 1,
   "metadata": {},
   "outputs": [],
   "source": [
    "import pandas as pd\n",
    "from src.config import Config\n",
    "from src.ensemble import Ensemble\n",
    "from sklearn import metrics\n",
    "import warnings\n",
    "\n",
    "warnings.filterwarnings(\"ignore\")"
   ]
  },
  {
   "cell_type": "markdown",
   "metadata": {},
   "source": [
    "# Load Datasets"
   ]
  },
  {
   "cell_type": "code",
   "execution_count": 2,
   "metadata": {},
   "outputs": [],
   "source": [
    "train_df = pd.read_csv(Config.filepath(\"train_prepared_both_le.csv\"))\n",
    "test_df = pd.read_csv(Config.filepath(\"test_prepared_both_le.csv\"))"
   ]
  },
  {
   "cell_type": "markdown",
   "metadata": {},
   "source": [
    "# Initialize The Ensemble"
   ]
  },
  {
   "cell_type": "code",
   "execution_count": 3,
   "metadata": {},
   "outputs": [],
   "source": [
    "exclude = None\n",
    "ensemble = Ensemble(train_df=train_df, test_df=test_df, exclude=exclude, l1_trials=10, l2_trials=10)"
   ]
  },
  {
   "cell_type": "markdown",
   "metadata": {},
   "source": [
    "# Train Level 1 Models"
   ]
  },
  {
   "cell_type": "code",
   "execution_count": 4,
   "metadata": {},
   "outputs": [
    {
     "data": {
      "text/html": [
       "<pre style=\"white-space:pre;overflow-x:auto;line-height:normal;font-family:Menlo,'DejaVu Sans Mono',consolas,'Courier New',monospace\">AdaBoost:\n",
       "</pre>\n"
      ],
      "text/plain": [
       "AdaBoost:\n"
      ]
     },
     "metadata": {},
     "output_type": "display_data"
    },
    {
     "data": {
      "text/html": [
       "<pre style=\"white-space:pre;overflow-x:auto;line-height:normal;font-family:Menlo,'DejaVu Sans Mono',consolas,'Courier New',monospace\">        Finding hyperparameters using Optuna<span style=\"color: #808000; text-decoration-color: #808000\">...</span>\n",
       "\n",
       "</pre>\n"
      ],
      "text/plain": [
       "        Finding hyperparameters using Optuna\u001b[33m...\u001b[0m\n",
       "\n"
      ]
     },
     "metadata": {},
     "output_type": "display_data"
    }
   ],
   "source": [
    "ensemble.train_level_one_models()"
   ]
  },
  {
   "cell_type": "markdown",
   "metadata": {},
   "source": [
    "# Train Level 2 Model"
   ]
  },
  {
   "cell_type": "code",
   "execution_count": null,
   "metadata": {},
   "outputs": [
    {
     "data": {
      "text/html": [
       "<pre style=\"white-space:pre;overflow-x:auto;line-height:normal;font-family:Menlo,'DejaVu Sans Mono',consolas,'Courier New',monospace\">Training Logistic Regression as level <span style=\"color: #008080; text-decoration-color: #008080; font-weight: bold\">2</span> model<span style=\"color: #808000; text-decoration-color: #808000\">...</span>\n",
       "</pre>\n"
      ],
      "text/plain": [
       "Training Logistic Regression as level \u001b[1;36m2\u001b[0m model\u001b[33m...\u001b[0m\n"
      ]
     },
     "metadata": {},
     "output_type": "display_data"
    },
    {
     "data": {
      "text/html": [
       "<pre style=\"white-space:pre;overflow-x:auto;line-height:normal;font-family:Menlo,'DejaVu Sans Mono',consolas,'Courier New',monospace\">        Finding optimal hyperparameters using Optuna<span style=\"color: #808000; text-decoration-color: #808000\">...</span>\n",
       "\n",
       "</pre>\n"
      ],
      "text/plain": [
       "        Finding optimal hyperparameters using Optuna\u001b[33m...\u001b[0m\n",
       "\n"
      ]
     },
     "metadata": {},
     "output_type": "display_data"
    },
    {
     "data": {
      "text/html": [
       "<pre style=\"white-space:pre;overflow-x:auto;line-height:normal;font-family:Menlo,'DejaVu Sans Mono',consolas,'Courier New',monospace\">        Best params: <span style=\"font-weight: bold\">{</span><span style=\"color: #008000; text-decoration-color: #008000\">'tol'</span>: <span style=\"color: #008080; text-decoration-color: #008080; font-weight: bold\">5.39948440978744e-05</span>, <span style=\"color: #008000; text-decoration-color: #008000\">'C'</span>: <span style=\"color: #008080; text-decoration-color: #008080; font-weight: bold\">1.1504753106625047</span>, <span style=\"color: #008000; text-decoration-color: #008000\">'solver'</span>: \n",
       "<span style=\"color: #008000; text-decoration-color: #008000\">'liblinear'</span><span style=\"font-weight: bold\">}</span>\n",
       "\n",
       "</pre>\n"
      ],
      "text/plain": [
       "        Best params: \u001b[1m{\u001b[0m\u001b[32m'tol'\u001b[0m: \u001b[1;36m5.39948440978744e-05\u001b[0m, \u001b[32m'C'\u001b[0m: \u001b[1;36m1.1504753106625047\u001b[0m, \u001b[32m'solver'\u001b[0m: \n",
       "\u001b[32m'liblinear'\u001b[0m\u001b[1m}\u001b[0m\n",
       "\n"
      ]
     },
     "metadata": {},
     "output_type": "display_data"
    },
    {
     "data": {
      "text/html": [
       "<pre style=\"white-space:pre;overflow-x:auto;line-height:normal;font-family:Menlo,'DejaVu Sans Mono',consolas,'Courier New',monospace\">        Training model with optimal parameters<span style=\"color: #808000; text-decoration-color: #808000\">...</span>\n",
       "\n",
       "</pre>\n"
      ],
      "text/plain": [
       "        Training model with optimal parameters\u001b[33m...\u001b[0m\n",
       "\n"
      ]
     },
     "metadata": {},
     "output_type": "display_data"
    },
    {
     "data": {
      "text/html": [
       "<pre style=\"white-space:pre;overflow-x:auto;line-height:normal;font-family:Menlo,'DejaVu Sans Mono',consolas,'Courier New',monospace\">        Fold <span style=\"color: #008080; text-decoration-color: #008080; font-weight: bold\">1</span> - Accuracy =  <span style=\"color: #008080; text-decoration-color: #008080; font-weight: bold\">0.7976</span>\n",
       "</pre>\n"
      ],
      "text/plain": [
       "        Fold \u001b[1;36m1\u001b[0m - Accuracy =  \u001b[1;36m0.7976\u001b[0m\n"
      ]
     },
     "metadata": {},
     "output_type": "display_data"
    },
    {
     "data": {
      "text/html": [
       "<pre style=\"white-space:pre;overflow-x:auto;line-height:normal;font-family:Menlo,'DejaVu Sans Mono',consolas,'Courier New',monospace\">        Fold <span style=\"color: #008080; text-decoration-color: #008080; font-weight: bold\">2</span> - Accuracy =  <span style=\"color: #008080; text-decoration-color: #008080; font-weight: bold\">0.8005</span>\n",
       "</pre>\n"
      ],
      "text/plain": [
       "        Fold \u001b[1;36m2\u001b[0m - Accuracy =  \u001b[1;36m0.8005\u001b[0m\n"
      ]
     },
     "metadata": {},
     "output_type": "display_data"
    },
    {
     "data": {
      "text/html": [
       "<pre style=\"white-space:pre;overflow-x:auto;line-height:normal;font-family:Menlo,'DejaVu Sans Mono',consolas,'Courier New',monospace\">        Fold <span style=\"color: #008080; text-decoration-color: #008080; font-weight: bold\">3</span> - Accuracy =  <span style=\"color: #008080; text-decoration-color: #008080; font-weight: bold\">0.8148</span>\n",
       "</pre>\n"
      ],
      "text/plain": [
       "        Fold \u001b[1;36m3\u001b[0m - Accuracy =  \u001b[1;36m0.8148\u001b[0m\n"
      ]
     },
     "metadata": {},
     "output_type": "display_data"
    },
    {
     "data": {
      "text/html": [
       "<pre style=\"white-space:pre;overflow-x:auto;line-height:normal;font-family:Menlo,'DejaVu Sans Mono',consolas,'Courier New',monospace\">        Fold <span style=\"color: #008080; text-decoration-color: #008080; font-weight: bold\">4</span> - Accuracy =  <span style=\"color: #008080; text-decoration-color: #008080; font-weight: bold\">0.8188</span>\n",
       "</pre>\n"
      ],
      "text/plain": [
       "        Fold \u001b[1;36m4\u001b[0m - Accuracy =  \u001b[1;36m0.8188\u001b[0m\n"
      ]
     },
     "metadata": {},
     "output_type": "display_data"
    },
    {
     "data": {
      "text/html": [
       "<pre style=\"white-space:pre;overflow-x:auto;line-height:normal;font-family:Menlo,'DejaVu Sans Mono',consolas,'Courier New',monospace\">        Fold <span style=\"color: #008080; text-decoration-color: #008080; font-weight: bold\">5</span> - Accuracy =  <span style=\"color: #008080; text-decoration-color: #008080; font-weight: bold\">0.8142</span>\n",
       "</pre>\n"
      ],
      "text/plain": [
       "        Fold \u001b[1;36m5\u001b[0m - Accuracy =  \u001b[1;36m0.8142\u001b[0m\n"
      ]
     },
     "metadata": {},
     "output_type": "display_data"
    },
    {
     "data": {
      "text/html": [
       "<pre style=\"white-space:pre;overflow-x:auto;line-height:normal;font-family:Menlo,'DejaVu Sans Mono',consolas,'Courier New',monospace\">        Overall accuracy =  <span style=\"color: #008080; text-decoration-color: #008080; font-weight: bold\">0.8092</span>\n",
       "</pre>\n"
      ],
      "text/plain": [
       "        Overall accuracy =  \u001b[1;36m0.8092\u001b[0m\n"
      ]
     },
     "metadata": {},
     "output_type": "display_data"
    },
    {
     "data": {
      "text/html": [
       "<pre style=\"white-space:pre;overflow-x:auto;line-height:normal;font-family:Menlo,'DejaVu Sans Mono',consolas,'Courier New',monospace\">        Done!\n",
       "</pre>\n"
      ],
      "text/plain": [
       "        Done!\n"
      ]
     },
     "metadata": {},
     "output_type": "display_data"
    }
   ],
   "source": [
    "model_name = \"lr\"\n",
    "result = ensemble.train_level_two_model(model_name=model_name)"
   ]
  },
  {
   "cell_type": "code",
   "execution_count": null,
   "metadata": {},
   "outputs": [
    {
     "data": {
      "text/html": [
       "<div>\n",
       "<style scoped>\n",
       "    .dataframe tbody tr th:only-of-type {\n",
       "        vertical-align: middle;\n",
       "    }\n",
       "\n",
       "    .dataframe tbody tr th {\n",
       "        vertical-align: top;\n",
       "    }\n",
       "\n",
       "    .dataframe thead th {\n",
       "        text-align: right;\n",
       "    }\n",
       "</style>\n",
       "<table border=\"1\" class=\"dataframe\">\n",
       "  <thead>\n",
       "    <tr style=\"text-align: right;\">\n",
       "      <th></th>\n",
       "      <th>PassengerId</th>\n",
       "      <th>ada_preds</th>\n",
       "      <th>lgb_preds</th>\n",
       "      <th>lr_preds</th>\n",
       "      <th>rf_preds</th>\n",
       "      <th>xgb_preds</th>\n",
       "      <th>Transported</th>\n",
       "    </tr>\n",
       "  </thead>\n",
       "  <tbody>\n",
       "    <tr>\n",
       "      <th>0</th>\n",
       "      <td>0013_01</td>\n",
       "      <td>0.499383</td>\n",
       "      <td>0.485711</td>\n",
       "      <td>0.596499</td>\n",
       "      <td>0.572142</td>\n",
       "      <td>0.399572</td>\n",
       "      <td>False</td>\n",
       "    </tr>\n",
       "    <tr>\n",
       "      <th>1</th>\n",
       "      <td>0018_01</td>\n",
       "      <td>0.483742</td>\n",
       "      <td>0.033362</td>\n",
       "      <td>0.001755</td>\n",
       "      <td>0.398342</td>\n",
       "      <td>0.044260</td>\n",
       "      <td>False</td>\n",
       "    </tr>\n",
       "    <tr>\n",
       "      <th>2</th>\n",
       "      <td>0019_01</td>\n",
       "      <td>0.511290</td>\n",
       "      <td>0.878389</td>\n",
       "      <td>0.987282</td>\n",
       "      <td>0.579504</td>\n",
       "      <td>0.929174</td>\n",
       "      <td>True</td>\n",
       "    </tr>\n",
       "    <tr>\n",
       "      <th>3</th>\n",
       "      <td>0021_01</td>\n",
       "      <td>0.513877</td>\n",
       "      <td>0.991767</td>\n",
       "      <td>0.992420</td>\n",
       "      <td>0.398915</td>\n",
       "      <td>0.938499</td>\n",
       "      <td>True</td>\n",
       "    </tr>\n",
       "    <tr>\n",
       "      <th>4</th>\n",
       "      <td>0023_01</td>\n",
       "      <td>0.500574</td>\n",
       "      <td>0.662118</td>\n",
       "      <td>0.456083</td>\n",
       "      <td>0.425617</td>\n",
       "      <td>0.570911</td>\n",
       "      <td>True</td>\n",
       "    </tr>\n",
       "  </tbody>\n",
       "</table>\n",
       "</div>"
      ]
     },
     "execution_count": 6,
     "metadata": {},
     "output_type": "execute_result"
    }
   ],
   "source": [
    "result.head()"
   ]
  },
  {
   "cell_type": "code",
   "execution_count": null,
   "metadata": {},
   "outputs": [
    {
     "data": {
      "text/html": [
       "<pre style=\"white-space:pre;overflow-x:auto;line-height:normal;font-family:Menlo,'DejaVu Sans Mono',consolas,'Courier New',monospace\">\n",
       "<span style=\"color: #ff0000; text-decoration-color: #ff0000; font-style: italic\">False</span>    <span style=\"color: #008080; text-decoration-color: #008080; font-weight: bold\">2645</span>\n",
       "<span style=\"color: #00ff00; text-decoration-color: #00ff00; font-style: italic\">True</span>     <span style=\"color: #008080; text-decoration-color: #008080; font-weight: bold\">1632</span>\n",
       "Name: Transported, dtype: int64\n",
       "</pre>\n"
      ],
      "text/plain": [
       "\n",
       "\u001b[3;91mFalse\u001b[0m    \u001b[1;36m2645\u001b[0m\n",
       "\u001b[3;92mTrue\u001b[0m     \u001b[1;36m1632\u001b[0m\n",
       "Name: Transported, dtype: int64\n"
      ]
     },
     "metadata": {},
     "output_type": "display_data"
    }
   ],
   "source": [
    "result[\"Transported\"].value_counts()"
   ]
  },
  {
   "cell_type": "markdown",
   "metadata": {},
   "source": [
    "# Confusion Matrix"
   ]
  },
  {
   "cell_type": "code",
   "execution_count": null,
   "metadata": {},
   "outputs": [
    {
     "data": {
      "text/html": [
       "<pre style=\"white-space:pre;overflow-x:auto;line-height:normal;font-family:Menlo,'DejaVu Sans Mono',consolas,'Courier New',monospace\"><span style=\"font-weight: bold\">&lt;</span><span style=\"color: #ff00ff; text-decoration-color: #ff00ff; font-weight: bold\">sklearn.metrics._plot.confusion_matrix.ConfusionMatrixDisplay</span><span style=\"color: #000000; text-decoration-color: #000000\"> object at </span><span style=\"color: #008080; text-decoration-color: #008080; font-weight: bold\">0x7fc1019144f0</span><span style=\"font-weight: bold\">&gt;</span>\n",
       "</pre>\n"
      ],
      "text/plain": [
       "\u001b[1m<\u001b[0m\u001b[1;95msklearn.metrics._plot.confusion_matrix.ConfusionMatrixDisplay\u001b[0m\u001b[39m object at \u001b[0m\u001b[1;36m0x7fc1019144f0\u001b[0m\u001b[1m>\u001b[0m\n"
      ]
     },
     "metadata": {},
     "output_type": "display_data"
    },
    {
     "data": {
      "text/html": [
       "<pre style=\"white-space:pre;overflow-x:auto;line-height:normal;font-family:Menlo,'DejaVu Sans Mono',consolas,'Courier New',monospace\"><span style=\"font-weight: bold\">&lt;</span><span style=\"color: #ff00ff; text-decoration-color: #ff00ff; font-weight: bold\">Figure</span><span style=\"color: #000000; text-decoration-color: #000000\"> size 432x288 with </span><span style=\"color: #008080; text-decoration-color: #008080; font-weight: bold\">2</span><span style=\"color: #000000; text-decoration-color: #000000\"> Axes</span><span style=\"font-weight: bold\">&gt;</span>\n",
       "</pre>\n"
      ],
      "text/plain": [
       "\u001b[1m<\u001b[0m\u001b[1;95mFigure\u001b[0m\u001b[39m size 432x288 with \u001b[0m\u001b[1;36m2\u001b[0m\u001b[39m Axes\u001b[0m\u001b[1m>\u001b[0m\n"
      ]
     },
     "metadata": {},
     "output_type": "display_data"
    },
    {
     "data": {
      "image/png": "[encoded data removed]"
     },
     "metadata": {
      "needs_background": "light"
     },
     "output_type": "display_data"
    }
   ],
   "source": [
    "train_results = ensemble.meta_train_df\n",
    "y_true = train_results[\"Transported\"].astype(int)\n",
    "y_pred = train_results[\"preds\"]\n",
    "metrics.ConfusionMatrixDisplay.from_predictions(y_true, y_pred, display_labels=[\"Not Transported\", \"Transported\"])"
   ]
  }
 ],
 "metadata": {
  "kernelspec": {
   "display_name": "Python 3.10.4 ('dl')",
   "language": "python",
   "name": "python3"
  },
  "language_info": {
   "codemirror_mode": {
    "name": "ipython",
    "version": 3
   },
   "file_extension": ".py",
   "mimetype": "text/x-python",
   "name": "python",
   "nbconvert_exporter": "python",
   "pygments_lexer": "ipython3",
   "version": "3.10.4"
  },
  "orig_nbformat": 4,
  "vscode": {
   "interpreter": {
    "hash": "181b8d3d1ee79cdf309bab5d1bf5a9535a3cac09d706321e55156af826410f17"
   }
  }
 },
 "nbformat": 4,
 "nbformat_minor": 2
}
