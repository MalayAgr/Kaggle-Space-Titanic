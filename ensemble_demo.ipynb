{
 "cells": [
  {
   "cell_type": "markdown",
   "metadata": {},
   "source": [
    "# Imports"
   ]
  },
  {
   "cell_type": "code",
   "execution_count": 1,
   "metadata": {},
   "outputs": [],
   "source": [
    "import pandas as pd\n",
    "from src.config import Config\n",
    "from src.ensemble import Ensemble\n",
    "from sklearn import metrics\n",
    "import warnings\n",
    "\n",
    "warnings.filterwarnings(\"ignore\")"
   ]
  },
  {
   "cell_type": "markdown",
   "metadata": {},
   "source": [
    "# Load Datasets"
   ]
  },
  {
   "cell_type": "code",
   "execution_count": 2,
   "metadata": {},
   "outputs": [],
   "source": [
    "train_df = pd.read_csv(Config.filepath(\"train_prepared_both_le.csv\"))\n",
    "test_df = pd.read_csv(Config.filepath(\"test_prepared_both_le.csv\"))"
   ]
  },
  {
   "cell_type": "markdown",
   "metadata": {},
   "source": [
    "# Initialize The Ensemble"
   ]
  },
  {
   "cell_type": "code",
   "execution_count": 3,
   "metadata": {},
   "outputs": [],
   "source": [
    "exclude = None\n",
    "ensemble = Ensemble(train_df=train_df, test_df=test_df, exclude=exclude, l1_trials=10, l2_trials=10)"
   ]
  },
  {
   "cell_type": "markdown",
   "metadata": {},
   "source": [
    "# Train Level 1 Models"
   ]
  },
  {
   "cell_type": "code",
   "execution_count": 4,
   "metadata": {},
   "outputs": [
    {
     "data": {
      "text/html": [
       "<pre style=\"white-space:pre;overflow-x:auto;line-height:normal;font-family:Menlo,'DejaVu Sans Mono',consolas,'Courier New',monospace\">AdaBoost:\n",
       "</pre>\n"
      ],
      "text/plain": [
       "AdaBoost:\n"
      ]
     },
     "metadata": {},
     "output_type": "display_data"
    },
    {
     "data": {
      "text/html": [
       "<pre style=\"white-space:pre;overflow-x:auto;line-height:normal;font-family:Menlo,'DejaVu Sans Mono',consolas,'Courier New',monospace\">        Finding hyperparameters using Optuna<span style=\"color: #808000; text-decoration-color: #808000\">...</span>\n",
       "\n",
       "</pre>\n"
      ],
      "text/plain": [
       "        Finding hyperparameters using Optuna\u001b[33m...\u001b[0m\n",
       "\n"
      ]
     },
     "metadata": {},
     "output_type": "display_data"
    },
    {
     "data": {
      "text/html": [
       "<pre style=\"white-space:pre;overflow-x:auto;line-height:normal;font-family:Menlo,'DejaVu Sans Mono',consolas,'Courier New',monospace\">        Best parameters: <span style=\"font-weight: bold\">{</span><span style=\"color: #008000; text-decoration-color: #008000\">'n_estimators'</span>: <span style=\"color: #008080; text-decoration-color: #008080; font-weight: bold\">340</span>, <span style=\"color: #008000; text-decoration-color: #008000\">'learning_rate'</span>: <span style=\"color: #008080; text-decoration-color: #008080; font-weight: bold\">0.22948683681130552</span>, \n",
       "<span style=\"color: #008000; text-decoration-color: #008000\">'tune_estimator'</span>: <span style=\"color: #ff0000; text-decoration-color: #ff0000; font-style: italic\">False</span><span style=\"font-weight: bold\">}</span>\n",
       "</pre>\n"
      ],
      "text/plain": [
       "        Best parameters: \u001b[1m{\u001b[0m\u001b[32m'n_estimators'\u001b[0m: \u001b[1;36m340\u001b[0m, \u001b[32m'learning_rate'\u001b[0m: \u001b[1;36m0.22948683681130552\u001b[0m, \n",
       "\u001b[32m'tune_estimator'\u001b[0m: \u001b[3;91mFalse\u001b[0m\u001b[1m}\u001b[0m\n"
      ]
     },
     "metadata": {},
     "output_type": "display_data"
    },
    {
     "data": {
      "text/html": [
       "<pre style=\"white-space:pre;overflow-x:auto;line-height:normal;font-family:Menlo,'DejaVu Sans Mono',consolas,'Courier New',monospace\">        Training model with best parameters<span style=\"color: #808000; text-decoration-color: #808000\">...</span>\n",
       "\n",
       "</pre>\n"
      ],
      "text/plain": [
       "        Training model with best parameters\u001b[33m...\u001b[0m\n",
       "\n"
      ]
     },
     "metadata": {},
     "output_type": "display_data"
    },
    {
     "name": "stdout",
     "output_type": "stream",
     "text": [
      "\tFold 1 - Accuracy =  0.7855\n",
      "\tFold 2 - Accuracy =  0.7901\n",
      "\tFold 3 - Accuracy =  0.7982\n",
      "\tFold 4 - Accuracy =  0.7952\n",
      "\tFold 5 - Accuracy =  0.8090\n",
      "\tOverall accuracy =  0.7956\n"
     ]
    },
    {
     "data": {
      "text/html": [
       "<pre style=\"white-space:pre;overflow-x:auto;line-height:normal;font-family:Menlo,'DejaVu Sans Mono',consolas,'Courier New',monospace\">        Done!\n",
       "\n",
       "</pre>\n"
      ],
      "text/plain": [
       "        Done!\n",
       "\n"
      ]
     },
     "metadata": {},
     "output_type": "display_data"
    },
    {
     "data": {
      "text/html": [
       "<pre style=\"white-space:pre;overflow-x:auto;line-height:normal;font-family:Menlo,'DejaVu Sans Mono',consolas,'Courier New',monospace\">LightGBM:\n",
       "</pre>\n"
      ],
      "text/plain": [
       "LightGBM:\n"
      ]
     },
     "metadata": {},
     "output_type": "display_data"
    },
    {
     "data": {
      "text/html": [
       "<pre style=\"white-space:pre;overflow-x:auto;line-height:normal;font-family:Menlo,'DejaVu Sans Mono',consolas,'Courier New',monospace\">        Finding hyperparameters using Optuna<span style=\"color: #808000; text-decoration-color: #808000\">...</span>\n",
       "\n",
       "</pre>\n"
      ],
      "text/plain": [
       "        Finding hyperparameters using Optuna\u001b[33m...\u001b[0m\n",
       "\n"
      ]
     },
     "metadata": {},
     "output_type": "display_data"
    },
    {
     "data": {
      "text/html": [
       "<pre style=\"white-space:pre;overflow-x:auto;line-height:normal;font-family:Menlo,'DejaVu Sans Mono',consolas,'Courier New',monospace\">        Best parameters: <span style=\"font-weight: bold\">{</span><span style=\"color: #008000; text-decoration-color: #008000\">'num_leaves'</span>: <span style=\"color: #008080; text-decoration-color: #008080; font-weight: bold\">62</span>, <span style=\"color: #008000; text-decoration-color: #008000\">'max_depth'</span>: <span style=\"color: #008080; text-decoration-color: #008080; font-weight: bold\">21</span>, <span style=\"color: #008000; text-decoration-color: #008000\">'learning_rate'</span>: \n",
       "<span style=\"color: #008080; text-decoration-color: #008080; font-weight: bold\">0.020682435846372867</span>, <span style=\"color: #008000; text-decoration-color: #008000\">'n_estimators'</span>: <span style=\"color: #008080; text-decoration-color: #008080; font-weight: bold\">488</span>, <span style=\"color: #008000; text-decoration-color: #008000\">'reg_alpha'</span>: <span style=\"color: #008080; text-decoration-color: #008080; font-weight: bold\">4.162213204002109</span>, <span style=\"color: #008000; text-decoration-color: #008000\">'reg_lambda'</span>: \n",
       "<span style=\"color: #008080; text-decoration-color: #008080; font-weight: bold\">1.0616955533913808</span>, <span style=\"color: #008000; text-decoration-color: #008000\">'min_child_samples'</span>: <span style=\"color: #008080; text-decoration-color: #008080; font-weight: bold\">23</span>, <span style=\"color: #008000; text-decoration-color: #008000\">'subsample_for_bin'</span>: <span style=\"color: #008080; text-decoration-color: #008080; font-weight: bold\">3100</span><span style=\"font-weight: bold\">}</span>\n",
       "</pre>\n"
      ],
      "text/plain": [
       "        Best parameters: \u001b[1m{\u001b[0m\u001b[32m'num_leaves'\u001b[0m: \u001b[1;36m62\u001b[0m, \u001b[32m'max_depth'\u001b[0m: \u001b[1;36m21\u001b[0m, \u001b[32m'learning_rate'\u001b[0m: \n",
       "\u001b[1;36m0.020682435846372867\u001b[0m, \u001b[32m'n_estimators'\u001b[0m: \u001b[1;36m488\u001b[0m, \u001b[32m'reg_alpha'\u001b[0m: \u001b[1;36m4.162213204002109\u001b[0m, \u001b[32m'reg_lambda'\u001b[0m: \n",
       "\u001b[1;36m1.0616955533913808\u001b[0m, \u001b[32m'min_child_samples'\u001b[0m: \u001b[1;36m23\u001b[0m, \u001b[32m'subsample_for_bin'\u001b[0m: \u001b[1;36m3100\u001b[0m\u001b[1m}\u001b[0m\n"
      ]
     },
     "metadata": {},
     "output_type": "display_data"
    },
    {
     "data": {
      "text/html": [
       "<pre style=\"white-space:pre;overflow-x:auto;line-height:normal;font-family:Menlo,'DejaVu Sans Mono',consolas,'Courier New',monospace\">        Training model with best parameters<span style=\"color: #808000; text-decoration-color: #808000\">...</span>\n",
       "\n",
       "</pre>\n"
      ],
      "text/plain": [
       "        Training model with best parameters\u001b[33m...\u001b[0m\n",
       "\n"
      ]
     },
     "metadata": {},
     "output_type": "display_data"
    },
    {
     "name": "stdout",
     "output_type": "stream",
     "text": [
      "\tFold 1 - Accuracy =  0.7959\n",
      "\tFold 2 - Accuracy =  0.7959\n",
      "\tFold 3 - Accuracy =  0.8097\n",
      "\tFold 4 - Accuracy =  0.8193\n",
      "\tFold 5 - Accuracy =  0.8113\n",
      "\tOverall accuracy =  0.8064\n"
     ]
    },
    {
     "data": {
      "text/html": [
       "<pre style=\"white-space:pre;overflow-x:auto;line-height:normal;font-family:Menlo,'DejaVu Sans Mono',consolas,'Courier New',monospace\">        Done!\n",
       "\n",
       "</pre>\n"
      ],
      "text/plain": [
       "        Done!\n",
       "\n"
      ]
     },
     "metadata": {},
     "output_type": "display_data"
    },
    {
     "data": {
      "text/html": [
       "<pre style=\"white-space:pre;overflow-x:auto;line-height:normal;font-family:Menlo,'DejaVu Sans Mono',consolas,'Courier New',monospace\">Logistic Regression:\n",
       "</pre>\n"
      ],
      "text/plain": [
       "Logistic Regression:\n"
      ]
     },
     "metadata": {},
     "output_type": "display_data"
    },
    {
     "data": {
      "text/html": [
       "<pre style=\"white-space:pre;overflow-x:auto;line-height:normal;font-family:Menlo,'DejaVu Sans Mono',consolas,'Courier New',monospace\">        Finding hyperparameters using Optuna<span style=\"color: #808000; text-decoration-color: #808000\">...</span>\n",
       "\n",
       "</pre>\n"
      ],
      "text/plain": [
       "        Finding hyperparameters using Optuna\u001b[33m...\u001b[0m\n",
       "\n"
      ]
     },
     "metadata": {},
     "output_type": "display_data"
    },
    {
     "data": {
      "text/html": [
       "<pre style=\"white-space:pre;overflow-x:auto;line-height:normal;font-family:Menlo,'DejaVu Sans Mono',consolas,'Courier New',monospace\">        Best parameters: <span style=\"font-weight: bold\">{</span><span style=\"color: #008000; text-decoration-color: #008000\">'tol'</span>: <span style=\"color: #008080; text-decoration-color: #008080; font-weight: bold\">1.9010245319870378e-06</span>, <span style=\"color: #008000; text-decoration-color: #008000\">'C'</span>: <span style=\"color: #008080; text-decoration-color: #008080; font-weight: bold\">0.7496501097315297</span>, <span style=\"color: #008000; text-decoration-color: #008000\">'solver'</span>: \n",
       "<span style=\"color: #008000; text-decoration-color: #008000\">'liblinear'</span><span style=\"font-weight: bold\">}</span>\n",
       "</pre>\n"
      ],
      "text/plain": [
       "        Best parameters: \u001b[1m{\u001b[0m\u001b[32m'tol'\u001b[0m: \u001b[1;36m1.9010245319870378e-06\u001b[0m, \u001b[32m'C'\u001b[0m: \u001b[1;36m0.7496501097315297\u001b[0m, \u001b[32m'solver'\u001b[0m: \n",
       "\u001b[32m'liblinear'\u001b[0m\u001b[1m}\u001b[0m\n"
      ]
     },
     "metadata": {},
     "output_type": "display_data"
    },
    {
     "data": {
      "text/html": [
       "<pre style=\"white-space:pre;overflow-x:auto;line-height:normal;font-family:Menlo,'DejaVu Sans Mono',consolas,'Courier New',monospace\">        Training model with best parameters<span style=\"color: #808000; text-decoration-color: #808000\">...</span>\n",
       "\n",
       "</pre>\n"
      ],
      "text/plain": [
       "        Training model with best parameters\u001b[33m...\u001b[0m\n",
       "\n"
      ]
     },
     "metadata": {},
     "output_type": "display_data"
    },
    {
     "name": "stdout",
     "output_type": "stream",
     "text": [
      "\tFold 1 - Accuracy =  0.7890\n",
      "\tFold 2 - Accuracy =  0.7924\n",
      "\tFold 3 - Accuracy =  0.8010\n",
      "\tFold 4 - Accuracy =  0.7986\n",
      "\tFold 5 - Accuracy =  0.8038\n",
      "\tOverall accuracy =  0.7970\n"
     ]
    },
    {
     "data": {
      "text/html": [
       "<pre style=\"white-space:pre;overflow-x:auto;line-height:normal;font-family:Menlo,'DejaVu Sans Mono',consolas,'Courier New',monospace\">        Done!\n",
       "\n",
       "</pre>\n"
      ],
      "text/plain": [
       "        Done!\n",
       "\n"
      ]
     },
     "metadata": {},
     "output_type": "display_data"
    },
    {
     "data": {
      "text/html": [
       "<pre style=\"white-space:pre;overflow-x:auto;line-height:normal;font-family:Menlo,'DejaVu Sans Mono',consolas,'Courier New',monospace\">Random Forest:\n",
       "</pre>\n"
      ],
      "text/plain": [
       "Random Forest:\n"
      ]
     },
     "metadata": {},
     "output_type": "display_data"
    },
    {
     "data": {
      "text/html": [
       "<pre style=\"white-space:pre;overflow-x:auto;line-height:normal;font-family:Menlo,'DejaVu Sans Mono',consolas,'Courier New',monospace\">        Finding hyperparameters using Optuna<span style=\"color: #808000; text-decoration-color: #808000\">...</span>\n",
       "\n",
       "</pre>\n"
      ],
      "text/plain": [
       "        Finding hyperparameters using Optuna\u001b[33m...\u001b[0m\n",
       "\n"
      ]
     },
     "metadata": {},
     "output_type": "display_data"
    },
    {
     "data": {
      "text/html": [
       "<pre style=\"white-space:pre;overflow-x:auto;line-height:normal;font-family:Menlo,'DejaVu Sans Mono',consolas,'Courier New',monospace\">        Best parameters: <span style=\"font-weight: bold\">{</span><span style=\"color: #008000; text-decoration-color: #008000\">'n_estimators'</span>: <span style=\"color: #008080; text-decoration-color: #008080; font-weight: bold\">262</span>, <span style=\"color: #008000; text-decoration-color: #008000\">'max_depth'</span>: <span style=\"color: #008080; text-decoration-color: #008080; font-weight: bold\">22</span>, <span style=\"color: #008000; text-decoration-color: #008000\">'min_samples_split'</span>: <span style=\"color: #008080; text-decoration-color: #008080; font-weight: bold\">2</span>, \n",
       "<span style=\"color: #008000; text-decoration-color: #008000\">'min_samples_leaf'</span>: <span style=\"color: #008080; text-decoration-color: #008080; font-weight: bold\">1</span>, <span style=\"color: #008000; text-decoration-color: #008000\">'max_features'</span>: <span style=\"color: #008000; text-decoration-color: #008000\">'log2'</span>, <span style=\"color: #008000; text-decoration-color: #008000\">'bootstrap'</span>: <span style=\"color: #ff0000; text-decoration-color: #ff0000; font-style: italic\">False</span>, <span style=\"color: #008000; text-decoration-color: #008000\">'ccp_alpha'</span>: \n",
       "<span style=\"color: #008080; text-decoration-color: #008080; font-weight: bold\">0.03151987295193889</span><span style=\"font-weight: bold\">}</span>\n",
       "</pre>\n"
      ],
      "text/plain": [
       "        Best parameters: \u001b[1m{\u001b[0m\u001b[32m'n_estimators'\u001b[0m: \u001b[1;36m262\u001b[0m, \u001b[32m'max_depth'\u001b[0m: \u001b[1;36m22\u001b[0m, \u001b[32m'min_samples_split'\u001b[0m: \u001b[1;36m2\u001b[0m, \n",
       "\u001b[32m'min_samples_leaf'\u001b[0m: \u001b[1;36m1\u001b[0m, \u001b[32m'max_features'\u001b[0m: \u001b[32m'log2'\u001b[0m, \u001b[32m'bootstrap'\u001b[0m: \u001b[3;91mFalse\u001b[0m, \u001b[32m'ccp_alpha'\u001b[0m: \n",
       "\u001b[1;36m0.03151987295193889\u001b[0m\u001b[1m}\u001b[0m\n"
      ]
     },
     "metadata": {},
     "output_type": "display_data"
    },
    {
     "data": {
      "text/html": [
       "<pre style=\"white-space:pre;overflow-x:auto;line-height:normal;font-family:Menlo,'DejaVu Sans Mono',consolas,'Courier New',monospace\">        Training model with best parameters<span style=\"color: #808000; text-decoration-color: #808000\">...</span>\n",
       "\n",
       "</pre>\n"
      ],
      "text/plain": [
       "        Training model with best parameters\u001b[33m...\u001b[0m\n",
       "\n"
      ]
     },
     "metadata": {},
     "output_type": "display_data"
    },
    {
     "name": "stdout",
     "output_type": "stream",
     "text": [
      "\tFold 1 - Accuracy =  0.7407\n",
      "\tFold 2 - Accuracy =  0.7280\n",
      "\tFold 3 - Accuracy =  0.7320\n",
      "\tFold 4 - Accuracy =  0.7417\n",
      "\tFold 5 - Accuracy =  0.7434\n",
      "\tOverall accuracy =  0.7371\n"
     ]
    },
    {
     "data": {
      "text/html": [
       "<pre style=\"white-space:pre;overflow-x:auto;line-height:normal;font-family:Menlo,'DejaVu Sans Mono',consolas,'Courier New',monospace\">        Done!\n",
       "\n",
       "</pre>\n"
      ],
      "text/plain": [
       "        Done!\n",
       "\n"
      ]
     },
     "metadata": {},
     "output_type": "display_data"
    },
    {
     "data": {
      "text/html": [
       "<pre style=\"white-space:pre;overflow-x:auto;line-height:normal;font-family:Menlo,'DejaVu Sans Mono',consolas,'Courier New',monospace\">XGBoost:\n",
       "</pre>\n"
      ],
      "text/plain": [
       "XGBoost:\n"
      ]
     },
     "metadata": {},
     "output_type": "display_data"
    },
    {
     "data": {
      "text/html": [
       "<pre style=\"white-space:pre;overflow-x:auto;line-height:normal;font-family:Menlo,'DejaVu Sans Mono',consolas,'Courier New',monospace\">        Finding hyperparameters using Optuna<span style=\"color: #808000; text-decoration-color: #808000\">...</span>\n",
       "\n",
       "</pre>\n"
      ],
      "text/plain": [
       "        Finding hyperparameters using Optuna\u001b[33m...\u001b[0m\n",
       "\n"
      ]
     },
     "metadata": {},
     "output_type": "display_data"
    },
    {
     "data": {
      "text/html": [
       "<pre style=\"white-space:pre;overflow-x:auto;line-height:normal;font-family:Menlo,'DejaVu Sans Mono',consolas,'Courier New',monospace\">        Best parameters: <span style=\"font-weight: bold\">{</span><span style=\"color: #008000; text-decoration-color: #008000\">'max_depth'</span>: <span style=\"color: #008080; text-decoration-color: #008080; font-weight: bold\">11</span>, <span style=\"color: #008000; text-decoration-color: #008000\">'n_estimators'</span>: <span style=\"color: #008080; text-decoration-color: #008080; font-weight: bold\">417</span>, <span style=\"color: #008000; text-decoration-color: #008000\">'alpha'</span>: <span style=\"color: #008080; text-decoration-color: #008080; font-weight: bold\">1.0616955533913808</span>, \n",
       "<span style=\"color: #008000; text-decoration-color: #008000\">'lambda'</span>: <span style=\"color: #008080; text-decoration-color: #008080; font-weight: bold\">1.3399549522183016</span>, <span style=\"color: #008000; text-decoration-color: #008000\">'learning_rate'</span>: <span style=\"color: #008080; text-decoration-color: #008080; font-weight: bold\">0.05478357268196331</span>, <span style=\"color: #008000; text-decoration-color: #008000\">'colsample_bytree'</span>: \n",
       "<span style=\"color: #008080; text-decoration-color: #008080; font-weight: bold\">0.4433937943676302</span>, <span style=\"color: #008000; text-decoration-color: #008000\">'colsample_bylevel'</span>: <span style=\"color: #008080; text-decoration-color: #008080; font-weight: bold\">0.6198051453057902</span>, <span style=\"color: #008000; text-decoration-color: #008000\">'min_child_weight'</span>: \n",
       "<span style=\"color: #008080; text-decoration-color: #008080; font-weight: bold\">43.76255684556946</span>, <span style=\"color: #008000; text-decoration-color: #008000\">'sampling_method'</span>: <span style=\"color: #008000; text-decoration-color: #008000\">'gradient_based'</span>, <span style=\"color: #008000; text-decoration-color: #008000\">'early_stopping_rounds'</span>: <span style=\"color: #008080; text-decoration-color: #008080; font-weight: bold\">5</span><span style=\"font-weight: bold\">}</span>\n",
       "</pre>\n"
      ],
      "text/plain": [
       "        Best parameters: \u001b[1m{\u001b[0m\u001b[32m'max_depth'\u001b[0m: \u001b[1;36m11\u001b[0m, \u001b[32m'n_estimators'\u001b[0m: \u001b[1;36m417\u001b[0m, \u001b[32m'alpha'\u001b[0m: \u001b[1;36m1.0616955533913808\u001b[0m, \n",
       "\u001b[32m'lambda'\u001b[0m: \u001b[1;36m1.3399549522183016\u001b[0m, \u001b[32m'learning_rate'\u001b[0m: \u001b[1;36m0.05478357268196331\u001b[0m, \u001b[32m'colsample_bytree'\u001b[0m: \n",
       "\u001b[1;36m0.4433937943676302\u001b[0m, \u001b[32m'colsample_bylevel'\u001b[0m: \u001b[1;36m0.6198051453057902\u001b[0m, \u001b[32m'min_child_weight'\u001b[0m: \n",
       "\u001b[1;36m43.76255684556946\u001b[0m, \u001b[32m'sampling_method'\u001b[0m: \u001b[32m'gradient_based'\u001b[0m, \u001b[32m'early_stopping_rounds'\u001b[0m: \u001b[1;36m5\u001b[0m\u001b[1m}\u001b[0m\n"
      ]
     },
     "metadata": {},
     "output_type": "display_data"
    },
    {
     "data": {
      "text/html": [
       "<pre style=\"white-space:pre;overflow-x:auto;line-height:normal;font-family:Menlo,'DejaVu Sans Mono',consolas,'Courier New',monospace\">        Training model with best parameters<span style=\"color: #808000; text-decoration-color: #808000\">...</span>\n",
       "\n",
       "</pre>\n"
      ],
      "text/plain": [
       "        Training model with best parameters\u001b[33m...\u001b[0m\n",
       "\n"
      ]
     },
     "metadata": {},
     "output_type": "display_data"
    },
    {
     "name": "stdout",
     "output_type": "stream",
     "text": [
      "\tFold 1 - Accuracy =  0.7987\n",
      "\tFold 2 - Accuracy =  0.8022\n",
      "\tFold 3 - Accuracy =  0.8131\n",
      "\tFold 4 - Accuracy =  0.8067\n",
      "\tFold 5 - Accuracy =  0.8153\n",
      "\tOverall accuracy =  0.8072\n"
     ]
    },
    {
     "data": {
      "text/html": [
       "<pre style=\"white-space:pre;overflow-x:auto;line-height:normal;font-family:Menlo,'DejaVu Sans Mono',consolas,'Courier New',monospace\">        Done!\n",
       "\n",
       "</pre>\n"
      ],
      "text/plain": [
       "        Done!\n",
       "\n"
      ]
     },
     "metadata": {},
     "output_type": "display_data"
    }
   ],
   "source": [
    "ensemble.train_level_one_models()"
   ]
  },
  {
   "cell_type": "markdown",
   "metadata": {},
   "source": [
    "# Train Level 2 Model"
   ]
  },
  {
   "cell_type": "code",
   "execution_count": 5,
   "metadata": {},
   "outputs": [
    {
     "data": {
      "text/html": [
       "<pre style=\"white-space:pre;overflow-x:auto;line-height:normal;font-family:Menlo,'DejaVu Sans Mono',consolas,'Courier New',monospace\">Training Logistic Regression as level <span style=\"color: #008080; text-decoration-color: #008080; font-weight: bold\">2</span> model<span style=\"color: #808000; text-decoration-color: #808000\">...</span>\n",
       "</pre>\n"
      ],
      "text/plain": [
       "Training Logistic Regression as level \u001b[1;36m2\u001b[0m model\u001b[33m...\u001b[0m\n"
      ]
     },
     "metadata": {},
     "output_type": "display_data"
    },
    {
     "data": {
      "text/html": [
       "<pre style=\"white-space:pre;overflow-x:auto;line-height:normal;font-family:Menlo,'DejaVu Sans Mono',consolas,'Courier New',monospace\">        Finding optimal hyperparameters using Optuna<span style=\"color: #808000; text-decoration-color: #808000\">...</span>\n",
       "\n",
       "</pre>\n"
      ],
      "text/plain": [
       "        Finding optimal hyperparameters using Optuna\u001b[33m...\u001b[0m\n",
       "\n"
      ]
     },
     "metadata": {},
     "output_type": "display_data"
    },
    {
     "data": {
      "text/html": [
       "<pre style=\"white-space:pre;overflow-x:auto;line-height:normal;font-family:Menlo,'DejaVu Sans Mono',consolas,'Courier New',monospace\">        Best params: <span style=\"font-weight: bold\">{</span><span style=\"color: #008000; text-decoration-color: #008000\">'tol'</span>: <span style=\"color: #008080; text-decoration-color: #008080; font-weight: bold\">5.611516415334504e-06</span>, <span style=\"color: #008000; text-decoration-color: #008000\">'C'</span>: <span style=\"color: #008080; text-decoration-color: #008080; font-weight: bold\">1.8679147494991148</span>, <span style=\"color: #008000; text-decoration-color: #008000\">'solver'</span>: \n",
       "<span style=\"color: #008000; text-decoration-color: #008000\">'newton-cg'</span><span style=\"font-weight: bold\">}</span>\n",
       "\n",
       "</pre>\n"
      ],
      "text/plain": [
       "        Best params: \u001b[1m{\u001b[0m\u001b[32m'tol'\u001b[0m: \u001b[1;36m5.611516415334504e-06\u001b[0m, \u001b[32m'C'\u001b[0m: \u001b[1;36m1.8679147494991148\u001b[0m, \u001b[32m'solver'\u001b[0m: \n",
       "\u001b[32m'newton-cg'\u001b[0m\u001b[1m}\u001b[0m\n",
       "\n"
      ]
     },
     "metadata": {},
     "output_type": "display_data"
    },
    {
     "data": {
      "text/html": [
       "<pre style=\"white-space:pre;overflow-x:auto;line-height:normal;font-family:Menlo,'DejaVu Sans Mono',consolas,'Courier New',monospace\">        Training model with optimal parameters<span style=\"color: #808000; text-decoration-color: #808000\">...</span>\n",
       "\n",
       "</pre>\n"
      ],
      "text/plain": [
       "        Training model with optimal parameters\u001b[33m...\u001b[0m\n",
       "\n"
      ]
     },
     "metadata": {},
     "output_type": "display_data"
    },
    {
     "name": "stdout",
     "output_type": "stream",
     "text": [
      "\tFold 1 - Accuracy =  0.7970\n",
      "\tFold 2 - Accuracy =  0.7999\n",
      "\tFold 3 - Accuracy =  0.8148\n",
      "\tFold 4 - Accuracy =  0.8188\n",
      "\tFold 5 - Accuracy =  0.8142\n",
      "\tOverall accuracy =  0.8089\n"
     ]
    },
    {
     "data": {
      "text/html": [
       "<pre style=\"white-space:pre;overflow-x:auto;line-height:normal;font-family:Menlo,'DejaVu Sans Mono',consolas,'Courier New',monospace\">        Done!\n",
       "</pre>\n"
      ],
      "text/plain": [
       "        Done!\n"
      ]
     },
     "metadata": {},
     "output_type": "display_data"
    }
   ],
   "source": [
    "model_name = \"lr\"\n",
    "result = ensemble.train_level_two_model(model_name=model_name)"
   ]
  },
  {
   "cell_type": "code",
   "execution_count": 6,
   "metadata": {},
   "outputs": [
    {
     "data": {
      "text/html": [
       "<div>\n",
       "<style scoped>\n",
       "    .dataframe tbody tr th:only-of-type {\n",
       "        vertical-align: middle;\n",
       "    }\n",
       "\n",
       "    .dataframe tbody tr th {\n",
       "        vertical-align: top;\n",
       "    }\n",
       "\n",
       "    .dataframe thead th {\n",
       "        text-align: right;\n",
       "    }\n",
       "</style>\n",
       "<table border=\"1\" class=\"dataframe\">\n",
       "  <thead>\n",
       "    <tr style=\"text-align: right;\">\n",
       "      <th></th>\n",
       "      <th>PassengerId</th>\n",
       "      <th>ada_preds</th>\n",
       "      <th>lgb_preds</th>\n",
       "      <th>lr_preds</th>\n",
       "      <th>rf_preds</th>\n",
       "      <th>xgb_preds</th>\n",
       "      <th>Transported</th>\n",
       "    </tr>\n",
       "  </thead>\n",
       "  <tbody>\n",
       "    <tr>\n",
       "      <th>0</th>\n",
       "      <td>0013_01</td>\n",
       "      <td>0.499383</td>\n",
       "      <td>0.485711</td>\n",
       "      <td>0.596499</td>\n",
       "      <td>0.479129</td>\n",
       "      <td>0.399572</td>\n",
       "      <td>False</td>\n",
       "    </tr>\n",
       "    <tr>\n",
       "      <th>1</th>\n",
       "      <td>0018_01</td>\n",
       "      <td>0.483742</td>\n",
       "      <td>0.033362</td>\n",
       "      <td>0.001755</td>\n",
       "      <td>0.392839</td>\n",
       "      <td>0.044260</td>\n",
       "      <td>False</td>\n",
       "    </tr>\n",
       "    <tr>\n",
       "      <th>2</th>\n",
       "      <td>0019_01</td>\n",
       "      <td>0.511290</td>\n",
       "      <td>0.878389</td>\n",
       "      <td>0.987282</td>\n",
       "      <td>0.493598</td>\n",
       "      <td>0.929174</td>\n",
       "      <td>True</td>\n",
       "    </tr>\n",
       "    <tr>\n",
       "      <th>3</th>\n",
       "      <td>0021_01</td>\n",
       "      <td>0.513877</td>\n",
       "      <td>0.991767</td>\n",
       "      <td>0.992420</td>\n",
       "      <td>0.393493</td>\n",
       "      <td>0.938499</td>\n",
       "      <td>True</td>\n",
       "    </tr>\n",
       "    <tr>\n",
       "      <th>4</th>\n",
       "      <td>0023_01</td>\n",
       "      <td>0.500574</td>\n",
       "      <td>0.662118</td>\n",
       "      <td>0.456083</td>\n",
       "      <td>0.386046</td>\n",
       "      <td>0.570911</td>\n",
       "      <td>True</td>\n",
       "    </tr>\n",
       "  </tbody>\n",
       "</table>\n",
       "</div>"
      ]
     },
     "execution_count": 6,
     "metadata": {},
     "output_type": "execute_result"
    }
   ],
   "source": [
    "result.head()"
   ]
  },
  {
   "cell_type": "code",
   "execution_count": 7,
   "metadata": {},
   "outputs": [
    {
     "data": {
      "text/html": [
       "<pre style=\"white-space:pre;overflow-x:auto;line-height:normal;font-family:Menlo,'DejaVu Sans Mono',consolas,'Courier New',monospace\">\n",
       "<span style=\"color: #ff0000; text-decoration-color: #ff0000; font-style: italic\">False</span>    <span style=\"color: #008080; text-decoration-color: #008080; font-weight: bold\">2593</span>\n",
       "<span style=\"color: #00ff00; text-decoration-color: #00ff00; font-style: italic\">True</span>     <span style=\"color: #008080; text-decoration-color: #008080; font-weight: bold\">1684</span>\n",
       "Name: Transported, dtype: int64\n",
       "</pre>\n"
      ],
      "text/plain": [
       "\n",
       "\u001b[3;91mFalse\u001b[0m    \u001b[1;36m2593\u001b[0m\n",
       "\u001b[3;92mTrue\u001b[0m     \u001b[1;36m1684\u001b[0m\n",
       "Name: Transported, dtype: int64\n"
      ]
     },
     "metadata": {},
     "output_type": "display_data"
    }
   ],
   "source": [
    "result[\"Transported\"].value_counts()"
   ]
  },
  {
   "cell_type": "markdown",
   "metadata": {},
   "source": [
    "# Confusion Matrix"
   ]
  },
  {
   "cell_type": "code",
   "execution_count": 8,
   "metadata": {},
   "outputs": [
    {
     "data": {
      "text/html": [
       "<pre style=\"white-space:pre;overflow-x:auto;line-height:normal;font-family:Menlo,'DejaVu Sans Mono',consolas,'Courier New',monospace\"><span style=\"font-weight: bold\">&lt;</span><span style=\"color: #ff00ff; text-decoration-color: #ff00ff; font-weight: bold\">sklearn.metrics._plot.confusion_matrix.ConfusionMatrixDisplay</span><span style=\"color: #000000; text-decoration-color: #000000\"> object at </span><span style=\"color: #008080; text-decoration-color: #008080; font-weight: bold\">0x7f00ab513eb0</span><span style=\"font-weight: bold\">&gt;</span>\n",
       "</pre>\n"
      ],
      "text/plain": [
       "\u001b[1m<\u001b[0m\u001b[1;95msklearn.metrics._plot.confusion_matrix.ConfusionMatrixDisplay\u001b[0m\u001b[39m object at \u001b[0m\u001b[1;36m0x7f00ab513eb0\u001b[0m\u001b[1m>\u001b[0m\n"
      ]
     },
     "metadata": {},
     "output_type": "display_data"
    },
    {
     "data": {
      "text/html": [
       "<pre style=\"white-space:pre;overflow-x:auto;line-height:normal;font-family:Menlo,'DejaVu Sans Mono',consolas,'Courier New',monospace\"><span style=\"font-weight: bold\">&lt;</span><span style=\"color: #ff00ff; text-decoration-color: #ff00ff; font-weight: bold\">Figure</span><span style=\"color: #000000; text-decoration-color: #000000\"> size 432x288 with </span><span style=\"color: #008080; text-decoration-color: #008080; font-weight: bold\">2</span><span style=\"color: #000000; text-decoration-color: #000000\"> Axes</span><span style=\"font-weight: bold\">&gt;</span>\n",
       "</pre>\n"
      ],
      "text/plain": [
       "\u001b[1m<\u001b[0m\u001b[1;95mFigure\u001b[0m\u001b[39m size 432x288 with \u001b[0m\u001b[1;36m2\u001b[0m\u001b[39m Axes\u001b[0m\u001b[1m>\u001b[0m\n"
      ]
     },
     "metadata": {},
     "output_type": "display_data"
    },
    {
     "data": {
      "image/png": "[encoded data removed]"
     },
     "metadata": {
      "needs_background": "light"
     },
     "output_type": "display_data"
    }
   ],
   "source": [
    "train_results = ensemble.meta_train_df\n",
    "y_true = train_results[\"Transported\"].astype(int)\n",
    "y_pred = train_results[\"preds\"]\n",
    "metrics.ConfusionMatrixDisplay.from_predictions(y_true, y_pred, display_labels=[\"Not Transported\", \"Transported\"])"
   ]
  }
 ],
 "metadata": {
  "kernelspec": {
   "display_name": "Python 3.10.4 ('dl')",
   "language": "python",
   "name": "python3"
  },
  "language_info": {
   "codemirror_mode": {
    "name": "ipython",
    "version": 3
   },
   "file_extension": ".py",
   "mimetype": "text/x-python",
   "name": "python",
   "nbconvert_exporter": "python",
   "pygments_lexer": "ipython3",
   "version": "3.10.4"
  },
  "orig_nbformat": 4,
  "vscode": {
   "interpreter": {
    "hash": "181b8d3d1ee79cdf309bab5d1bf5a9535a3cac09d706321e55156af826410f17"
   }
  }
 },
 "nbformat": 4,
 "nbformat_minor": 2
}
